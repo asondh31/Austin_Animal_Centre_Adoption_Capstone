{
 "cells": [
  {
   "cell_type": "code",
   "execution_count": 1,
   "id": "1696e7e6-c1a6-4b11-b077-821f0c66643b",
   "metadata": {},
   "outputs": [],
   "source": [
    "# Importing all the required libraries.\n",
    "\n",
    "# For maths.\n",
    "import numpy as np  \n",
    "\n",
    "# For data visualisations.\n",
    "import seaborn as sns \n",
    "import matplotlib.pyplot as plt\n",
    "\n",
    "# For general data use.\n",
    "import pandas as pd"
   ]
  },
  {
   "cell_type": "code",
   "execution_count": null,
   "id": "765f6307-8aee-4055-bda2-ba5597867e85",
   "metadata": {},
   "outputs": [],
   "source": [
    "# Loading the dataset"
   ]
  }
 ],
 "metadata": {
  "kernelspec": {
   "display_name": "Python [conda env:base] *",
   "language": "python",
   "name": "conda-base-py"
  },
  "language_info": {
   "codemirror_mode": {
    "name": "ipython",
    "version": 3
   },
   "file_extension": ".py",
   "mimetype": "text/x-python",
   "name": "python",
   "nbconvert_exporter": "python",
   "pygments_lexer": "ipython3",
   "version": "3.12.7"
  }
 },
 "nbformat": 4,
 "nbformat_minor": 5
}
